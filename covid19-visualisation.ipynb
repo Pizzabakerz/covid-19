{
 "cells": [
  {
   "cell_type": "code",
   "execution_count": 20,
   "metadata": {},
   "outputs": [],
   "source": [
    "import pandas as pd"
   ]
  },
  {
   "cell_type": "code",
   "execution_count": 21,
   "metadata": {},
   "outputs": [],
   "source": [
    "data = pd.read_csv('covid19.csv')"
   ]
  },
  {
   "cell_type": "code",
   "execution_count": 22,
   "metadata": {},
   "outputs": [
    {
     "output_type": "execute_result",
     "data": {
      "text/plain": "   Country TotalCases NewCases TotalDeaths  NewDeaths TotalRecovered  \\\n0    China     81,093      +39       3,270        9.0         72,703   \n1    Italy     59,138      NaN       5,476        NaN          7,024   \n2     Iran     21,638      NaN       1,685        NaN          7,913   \n3    Spain     28,768      NaN       1,772        NaN          2,575   \n4  Germany     24,873      NaN          94        NaN            266   \n\n  ActiveCases Serious Critical Tot Cases per 1M pop  \n0       5,120            1,749                   56  \n1      46,638            3,000                  978  \n2      12,040              NaN                  258  \n3      24,421            1,785                  615  \n4      24,513               23                  297  ",
      "text/html": "<div>\n<style scoped>\n    .dataframe tbody tr th:only-of-type {\n        vertical-align: middle;\n    }\n\n    .dataframe tbody tr th {\n        vertical-align: top;\n    }\n\n    .dataframe thead th {\n        text-align: right;\n    }\n</style>\n<table border=\"1\" class=\"dataframe\">\n  <thead>\n    <tr style=\"text-align: right;\">\n      <th></th>\n      <th>Country</th>\n      <th>TotalCases</th>\n      <th>NewCases</th>\n      <th>TotalDeaths</th>\n      <th>NewDeaths</th>\n      <th>TotalRecovered</th>\n      <th>ActiveCases</th>\n      <th>Serious Critical</th>\n      <th>Tot Cases per 1M pop</th>\n    </tr>\n  </thead>\n  <tbody>\n    <tr>\n      <th>0</th>\n      <td>China</td>\n      <td>81,093</td>\n      <td>+39</td>\n      <td>3,270</td>\n      <td>9.0</td>\n      <td>72,703</td>\n      <td>5,120</td>\n      <td>1,749</td>\n      <td>56</td>\n    </tr>\n    <tr>\n      <th>1</th>\n      <td>Italy</td>\n      <td>59,138</td>\n      <td>NaN</td>\n      <td>5,476</td>\n      <td>NaN</td>\n      <td>7,024</td>\n      <td>46,638</td>\n      <td>3,000</td>\n      <td>978</td>\n    </tr>\n    <tr>\n      <th>2</th>\n      <td>Iran</td>\n      <td>21,638</td>\n      <td>NaN</td>\n      <td>1,685</td>\n      <td>NaN</td>\n      <td>7,913</td>\n      <td>12,040</td>\n      <td>NaN</td>\n      <td>258</td>\n    </tr>\n    <tr>\n      <th>3</th>\n      <td>Spain</td>\n      <td>28,768</td>\n      <td>NaN</td>\n      <td>1,772</td>\n      <td>NaN</td>\n      <td>2,575</td>\n      <td>24,421</td>\n      <td>1,785</td>\n      <td>615</td>\n    </tr>\n    <tr>\n      <th>4</th>\n      <td>Germany</td>\n      <td>24,873</td>\n      <td>NaN</td>\n      <td>94</td>\n      <td>NaN</td>\n      <td>266</td>\n      <td>24,513</td>\n      <td>23</td>\n      <td>297</td>\n    </tr>\n  </tbody>\n</table>\n</div>"
     },
     "metadata": {},
     "execution_count": 22
    }
   ],
   "source": [
    "data.head()"
   ]
  },
  {
   "cell_type": "code",
   "execution_count": 23,
   "metadata": {},
   "outputs": [
    {
     "output_type": "execute_result",
     "data": {
      "text/plain": "       NewDeaths\ncount  10.000000\nmean   13.300000\nstd    21.349213\nmin     1.000000\n25%     1.000000\n50%     4.500000\n75%     8.750000\nmax    65.000000",
      "text/html": "<div>\n<style scoped>\n    .dataframe tbody tr th:only-of-type {\n        vertical-align: middle;\n    }\n\n    .dataframe tbody tr th {\n        vertical-align: top;\n    }\n\n    .dataframe thead th {\n        text-align: right;\n    }\n</style>\n<table border=\"1\" class=\"dataframe\">\n  <thead>\n    <tr style=\"text-align: right;\">\n      <th></th>\n      <th>NewDeaths</th>\n    </tr>\n  </thead>\n  <tbody>\n    <tr>\n      <th>count</th>\n      <td>10.000000</td>\n    </tr>\n    <tr>\n      <th>mean</th>\n      <td>13.300000</td>\n    </tr>\n    <tr>\n      <th>std</th>\n      <td>21.349213</td>\n    </tr>\n    <tr>\n      <th>min</th>\n      <td>1.000000</td>\n    </tr>\n    <tr>\n      <th>25%</th>\n      <td>1.000000</td>\n    </tr>\n    <tr>\n      <th>50%</th>\n      <td>4.500000</td>\n    </tr>\n    <tr>\n      <th>75%</th>\n      <td>8.750000</td>\n    </tr>\n    <tr>\n      <th>max</th>\n      <td>65.000000</td>\n    </tr>\n  </tbody>\n</table>\n</div>"
     },
     "metadata": {},
     "execution_count": 23
    }
   ],
   "source": [
    "data.describe()"
   ]
  },
  {
   "cell_type": "code",
   "execution_count": 24,
   "metadata": {},
   "outputs": [
    {
     "output_type": "execute_result",
     "data": {
      "text/plain": "   Country TotalCases NewCases TotalDeaths  NewDeaths TotalRecovered  \\\n0    China     81,093      +39       3,270        9.0         72,703   \n1    Italy     59,138      NaN       5,476        NaN          7,024   \n2     Iran     21,638      NaN       1,685        NaN          7,913   \n3    Spain     28,768      NaN       1,772        NaN          2,575   \n4  Germany     24,873      NaN          94        NaN            266   \n\n  ActiveCases Serious Critical Tot Cases per 1M pop  \n0       5,120            1,749                   56  \n1      46,638            3,000                  978  \n2      12,040              NaN                  258  \n3      24,421            1,785                  615  \n4      24,513               23                  297  ",
      "text/html": "<div>\n<style scoped>\n    .dataframe tbody tr th:only-of-type {\n        vertical-align: middle;\n    }\n\n    .dataframe tbody tr th {\n        vertical-align: top;\n    }\n\n    .dataframe thead th {\n        text-align: right;\n    }\n</style>\n<table border=\"1\" class=\"dataframe\">\n  <thead>\n    <tr style=\"text-align: right;\">\n      <th></th>\n      <th>Country</th>\n      <th>TotalCases</th>\n      <th>NewCases</th>\n      <th>TotalDeaths</th>\n      <th>NewDeaths</th>\n      <th>TotalRecovered</th>\n      <th>ActiveCases</th>\n      <th>Serious Critical</th>\n      <th>Tot Cases per 1M pop</th>\n    </tr>\n  </thead>\n  <tbody>\n    <tr>\n      <th>0</th>\n      <td>China</td>\n      <td>81,093</td>\n      <td>+39</td>\n      <td>3,270</td>\n      <td>9.0</td>\n      <td>72,703</td>\n      <td>5,120</td>\n      <td>1,749</td>\n      <td>56</td>\n    </tr>\n    <tr>\n      <th>1</th>\n      <td>Italy</td>\n      <td>59,138</td>\n      <td>NaN</td>\n      <td>5,476</td>\n      <td>NaN</td>\n      <td>7,024</td>\n      <td>46,638</td>\n      <td>3,000</td>\n      <td>978</td>\n    </tr>\n    <tr>\n      <th>2</th>\n      <td>Iran</td>\n      <td>21,638</td>\n      <td>NaN</td>\n      <td>1,685</td>\n      <td>NaN</td>\n      <td>7,913</td>\n      <td>12,040</td>\n      <td>NaN</td>\n      <td>258</td>\n    </tr>\n    <tr>\n      <th>3</th>\n      <td>Spain</td>\n      <td>28,768</td>\n      <td>NaN</td>\n      <td>1,772</td>\n      <td>NaN</td>\n      <td>2,575</td>\n      <td>24,421</td>\n      <td>1,785</td>\n      <td>615</td>\n    </tr>\n    <tr>\n      <th>4</th>\n      <td>Germany</td>\n      <td>24,873</td>\n      <td>NaN</td>\n      <td>94</td>\n      <td>NaN</td>\n      <td>266</td>\n      <td>24,513</td>\n      <td>23</td>\n      <td>297</td>\n    </tr>\n  </tbody>\n</table>\n</div>"
     },
     "metadata": {},
     "execution_count": 24
    }
   ],
   "source": [
    "data.head()"
   ]
  },
  {
   "cell_type": "code",
   "execution_count": 25,
   "metadata": {},
   "outputs": [
    {
     "output_type": "execute_result",
     "data": {
      "text/plain": "Country                   0\nTotalCases                0\nNewCases                153\nTotalDeaths              85\nNewDeaths               167\nTotalRecovered           70\nActiveCases               0\nSerious Critical        103\nTot Cases per 1M pop      0\ndtype: int64"
     },
     "metadata": {},
     "execution_count": 25
    }
   ],
   "source": [
    "data.isna().sum()"
   ]
  },
  {
   "cell_type": "code",
   "execution_count": 26,
   "metadata": {},
   "outputs": [],
   "source": [
    "data.fillna(0,inplace=True)"
   ]
  },
  {
   "cell_type": "code",
   "execution_count": 27,
   "metadata": {},
   "outputs": [
    {
     "output_type": "execute_result",
     "data": {
      "text/plain": "Country                 0\nTotalCases              0\nNewCases                0\nTotalDeaths             0\nNewDeaths               0\nTotalRecovered          0\nActiveCases             0\nSerious Critical        0\nTot Cases per 1M pop    0\ndtype: int64"
     },
     "metadata": {},
     "execution_count": 27
    }
   ],
   "source": [
    "data.isna().sum()"
   ]
  },
  {
   "cell_type": "code",
   "execution_count": 28,
   "metadata": {},
   "outputs": [
    {
     "output_type": "execute_result",
     "data": {
      "text/plain": "['Country',\n 'TotalCases',\n 'NewCases',\n 'TotalDeaths',\n 'NewDeaths',\n 'TotalRecovered',\n 'ActiveCases',\n 'Serious Critical',\n 'Tot\\xa0Cases per 1M pop']"
     },
     "metadata": {},
     "execution_count": 28
    }
   ],
   "source": [
    "list(data)"
   ]
  },
  {
   "cell_type": "code",
   "execution_count": 29,
   "metadata": {},
   "outputs": [
    {
     "output_type": "execute_result",
     "data": {
      "text/plain": "      Country TotalCases\n0       China     81,093\n1       Italy     59,138\n2        Iran     21,638\n3       Spain     28,768\n4     Germany     24,873\n..        ...        ...\n172   Somalia          1\n173  Suriname          1\n174  Eswatini          1\n175      Togo          1\n176    Total:    339,341\n\n[177 rows x 2 columns]",
      "text/html": "<div>\n<style scoped>\n    .dataframe tbody tr th:only-of-type {\n        vertical-align: middle;\n    }\n\n    .dataframe tbody tr th {\n        vertical-align: top;\n    }\n\n    .dataframe thead th {\n        text-align: right;\n    }\n</style>\n<table border=\"1\" class=\"dataframe\">\n  <thead>\n    <tr style=\"text-align: right;\">\n      <th></th>\n      <th>Country</th>\n      <th>TotalCases</th>\n    </tr>\n  </thead>\n  <tbody>\n    <tr>\n      <th>0</th>\n      <td>China</td>\n      <td>81,093</td>\n    </tr>\n    <tr>\n      <th>1</th>\n      <td>Italy</td>\n      <td>59,138</td>\n    </tr>\n    <tr>\n      <th>2</th>\n      <td>Iran</td>\n      <td>21,638</td>\n    </tr>\n    <tr>\n      <th>3</th>\n      <td>Spain</td>\n      <td>28,768</td>\n    </tr>\n    <tr>\n      <th>4</th>\n      <td>Germany</td>\n      <td>24,873</td>\n    </tr>\n    <tr>\n      <th>...</th>\n      <td>...</td>\n      <td>...</td>\n    </tr>\n    <tr>\n      <th>172</th>\n      <td>Somalia</td>\n      <td>1</td>\n    </tr>\n    <tr>\n      <th>173</th>\n      <td>Suriname</td>\n      <td>1</td>\n    </tr>\n    <tr>\n      <th>174</th>\n      <td>Eswatini</td>\n      <td>1</td>\n    </tr>\n    <tr>\n      <th>175</th>\n      <td>Togo</td>\n      <td>1</td>\n    </tr>\n    <tr>\n      <th>176</th>\n      <td>Total:</td>\n      <td>339,341</td>\n    </tr>\n  </tbody>\n</table>\n<p>177 rows × 2 columns</p>\n</div>"
     },
     "metadata": {},
     "execution_count": 29
    }
   ],
   "source": [
    "data[['Country','TotalCases']]"
   ]
  },
  {
   "cell_type": "code",
   "execution_count": 30,
   "metadata": {},
   "outputs": [],
   "source": [
    "data[['Country','TotalCases']].to_json(\"total_cases.json\",orient='split',index=False)"
   ]
  },
  {
   "cell_type": "code",
   "execution_count": 31,
   "metadata": {},
   "outputs": [],
   "source": [
    "data[['Country','TotalCases','TotalRecovered']].to_json(\"recovery_newcase.json\",orient='split',index=False)"
   ]
  },
  {
   "cell_type": "code",
   "execution_count": 32,
   "metadata": {},
   "outputs": [
    {
     "output_type": "execute_result",
     "data": {
      "text/plain": "Country                  object\nTotalCases               object\nNewCases                 object\nTotalDeaths              object\nNewDeaths               float64\nTotalRecovered           object\nActiveCases              object\nSerious Critical         object\nTot Cases per 1M pop     object\ndtype: object"
     },
     "metadata": {},
     "execution_count": 32
    }
   ],
   "source": [
    "data.dtypes"
   ]
  },
  {
   "cell_type": "code",
   "execution_count": 33,
   "metadata": {},
   "outputs": [],
   "source": [
    "data[['TotalDeaths','TotalRecovered']].to_json(\"total_death_recover.json\",orient='split',index=False)"
   ]
  },
  {
   "cell_type": "code",
   "execution_count": 34,
   "metadata": {},
   "outputs": [],
   "source": [
    "data[['NewDeaths','NewCases']].to_json(\"new_death_new_case.json\",orient='split',index=False)"
   ]
  },
  {
   "cell_type": "code",
   "execution_count": 35,
   "metadata": {},
   "outputs": [],
   "source": [
    "data[['Country',\n",
    " 'TotalCases',\n",
    " 'NewCases',\n",
    " 'TotalDeaths',\n",
    " 'NewDeaths',\n",
    " 'TotalRecovered',\n",
    " 'ActiveCases',\n",
    " 'Serious Critical']].to_json(\"final.json\",orient='split',index=False)"
   ]
  },
  {
   "cell_type": "code",
   "execution_count": null,
   "metadata": {},
   "outputs": [],
   "source": []
  }
 ],
 "metadata": {
  "kernelspec": {
   "display_name": "Python 3",
   "language": "python",
   "name": "python3"
  },
  "language_info": {
   "codemirror_mode": {
    "name": "ipython",
    "version": 3
   },
   "file_extension": ".py",
   "mimetype": "text/x-python",
   "name": "python",
   "nbconvert_exporter": "python",
   "pygments_lexer": "ipython3",
   "version": "3.7.5-final"
  }
 },
 "nbformat": 4,
 "nbformat_minor": 4
}